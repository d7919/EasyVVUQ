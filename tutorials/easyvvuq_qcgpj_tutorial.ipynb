{
 "cells": [
  {
   "metadata": {},
   "id": "still-passing",
   "cell_type": "markdown",
   "source": "# EasyVVUQ execution on HPC machines with QCG-PilotJob"
  },
  {
   "metadata": {},
   "id": "affecting-vulnerability",
   "cell_type": "markdown",
   "source": "**Author**: Bartosz Bosak, PSNC (bbosak@man.poznan.pl)"
  },
  {
   "metadata": {},
   "id": "global-attitude",
   "cell_type": "markdown",
   "source": "This tutorial is an extension of the EasyVVUQ basic tutorial available [here](https://mybinder.org/v2/gh/UCL-CCS/EasyVVUQ/a6852d6c5ba36f15579e601d7a8d074505f31084?filepath=tutorials%2Fbasic_tutorial.ipynb) to present how [QCG-PilotJob](https://github.com/vecma-project/QCG-PilotJob) can be used for HPC execution of the EasyVVUQ workflow. \n\nSince for many VVUQ scenarios there are a lot of calculations required, in terms of both the number of model executions and the computational requirements of a single execution, usage of large scale resources may be necessary. To this end and to enable efficient and flexible execution of demanding parts of EasyVVUQ workflow on HPC machines, EasyVVUQ has been integrated with the QCG-PilotJob tool. \n\nWe assume that you are already familiar with the idea of the basic tutorial, thus here we don't go into the conceptual detials of the presented scenario and concentrate on the usage of QCG-PilotJob system only. \n\nIn this example we present the same sensitivity analysis scenario of a model of vertical deflection of a tube as was used in the basic tutorial.  This is a relatively simple application that takes a JSON file with several parameters as an input and genenerates a JSON file as an output. The sets of input paramaeters are generated accordingly with the selected distributions and then, for each set, the model needs to be run, and finally the results of such executions need to be analysed. "
  },
  {
   "metadata": {},
   "id": "advance-strategy",
   "cell_type": "markdown",
   "source": "## Campaign configuration"
  },
  {
   "metadata": {},
   "id": "surface-humor",
   "cell_type": "markdown",
   "source": "The EasyVVUQ workflow that enables paralell execution with QCG-PilotJob is only slightly different that the basic workflow. The changes are in a few places only, so the majority of code can be simply inherited from the basic tutorial. We don't describe this inherited code in details, but rather focus on a new elements. "
  },
  {
   "metadata": {},
   "id": "median-satellite",
   "cell_type": "markdown",
   "source": "At the beginning we import a few libraries. Since QCG-PilotJob is already integrated into EasyVVUQ, we don't need to import anything specific for this library:"
  },
  {
   "metadata": {
    "trusted": true
   },
   "id": "pregnant-montana",
   "cell_type": "code",
   "source": "import os\nimport easyvvuq as uq\nimport chaospy as cp\nimport matplotlib.pyplot as plt",
   "execution_count": 1,
   "outputs": []
  },
  {
   "metadata": {},
   "id": "frequent-merit",
   "cell_type": "markdown",
   "source": "There are also no differences in the initial configuration of the EasyVVUQ. The first thing is declaration of parameters for the simulation:"
  },
  {
   "metadata": {
    "trusted": true
   },
   "id": "centered-studio",
   "cell_type": "code",
   "source": "params = {\n    \"F\": {\"type\": \"float\", \"default\": 1.0}, \n    \"L\": {\"type\": \"float\", \"default\": 1.5}, \n    \"a\": {\"type\": \"float\", \"min\": 0.7, \"max\": 1.2, \"default\": 1.0}, \n    \"D\": {\"type\": \"float\", \"min\": 0.75, \"max\": 0.85, \"default\": 0.8},\n    \"d\": {\"type\": \"float\", \"default\": 0.1},\n    \"E\": {\"type\": \"float\", \"default\": 200000},\n    \"outfile\": {\"type\": \"string\", \"default\": \"output.json\"}\n}",
   "execution_count": 2,
   "outputs": []
  },
  {
   "metadata": {},
   "id": "subjective-carter",
   "cell_type": "markdown",
   "source": "In the next step we define encoder and decoder that will be used to convert generated input parameters to the form of acceptable by the application, and an output from the application back to the form supported by EasyVVUQ, respectively. Since our application consumes and produces JSON files, we are able to employ predefined classes. For more advanced use-cases, more sophisticated custom encoders and decoders can be used. "
  },
  {
   "metadata": {
    "trusted": true
   },
   "id": "medium-front",
   "cell_type": "code",
   "source": "encoder = uq.encoders.GenericEncoder(template_fname='beam.template', delimiter='$', target_filename='input.json')\ndecoder = uq.decoders.JSONDecoder(target_filename='output.json', output_columns=['g1'])",
   "execution_count": 3,
   "outputs": []
  },
  {
   "metadata": {},
   "id": "faced-canyon",
   "cell_type": "markdown",
   "source": "The first update to the basic workflow is associated with the Campaign object. Campaign is the central entity that takes care of data management and data flow within EasyVVUQ. In order to use QCG-PilotJob, we can't use the basic version of the Campaing class, but its ammended version, called CampaignQCGPJ. "
  },
  {
   "metadata": {
    "trusted": true
   },
   "id": "scheduled-inspector",
   "cell_type": "code",
   "source": "campaign = uq.CampaignQCGPJ(name='beam', params=params, encoder=encoder, decoder=decoder)",
   "execution_count": 4,
   "outputs": []
  },
  {
   "metadata": {},
   "cell_type": "markdown",
   "source": "## Samples preparation"
  },
  {
   "metadata": {},
   "id": "streaming-albert",
   "cell_type": "markdown",
   "source": "In the next two steps we follow the basic tutorial. Firstly we define distributions for the selected uncertain parameters:"
  },
  {
   "metadata": {
    "trusted": true
   },
   "id": "competitive-anchor",
   "cell_type": "code",
   "source": "vary = {\n    \"F\": cp.Normal(1, 0.1),\n    \"L\": cp.Normal(1.5, 0.01),\n    \"a\": cp.Uniform(0.7, 1.2),\n    \"D\": cp.Triangle(0.75, 0.8, 0.85)\n}",
   "execution_count": 5,
   "outputs": []
  },
  {
   "metadata": {},
   "id": "respective-increase",
   "cell_type": "markdown",
   "source": "Once we do so, we set-up a sampler for our varying parameters. In this case we use Stochastic Collocation sampler with polynomial order equal to 3. "
  },
  {
   "metadata": {
    "trusted": true
   },
   "id": "comprehensive-nursing",
   "cell_type": "code",
   "source": "campaign.set_sampler(uq.sampling.SCSampler(vary=vary, polynomial_order=3))",
   "execution_count": 6,
   "outputs": []
  },
  {
   "metadata": {},
   "id": "incredible-postcard",
   "cell_type": "markdown",
   "source": "In order to prepare data for execution with QCG-PilotJob, we need now to invoke two method on the campaign. The `draw_samples()` method generates samples, the `populate_runs_dir()` method prepares input data for the application using the defined encoder. "
  },
  {
   "metadata": {
    "trusted": true
   },
   "id": "impossible-large",
   "cell_type": "code",
   "source": "campaign.draw_samples()\ncampaign.populate_runs_dir()",
   "execution_count": 7,
   "outputs": [
    {
     "output_type": "execute_result",
     "execution_count": 7,
     "data": {
      "text/plain": "['Run_1',\n 'Run_2',\n 'Run_3',\n 'Run_4',\n 'Run_5',\n 'Run_6',\n 'Run_7',\n 'Run_8',\n 'Run_9',\n 'Run_10',\n 'Run_11',\n 'Run_12',\n 'Run_13',\n 'Run_14',\n 'Run_15',\n 'Run_16',\n 'Run_17',\n 'Run_18',\n 'Run_19',\n 'Run_20',\n 'Run_21',\n 'Run_22',\n 'Run_23',\n 'Run_24',\n 'Run_25',\n 'Run_26',\n 'Run_27',\n 'Run_28',\n 'Run_29',\n 'Run_30',\n 'Run_31',\n 'Run_32',\n 'Run_33',\n 'Run_34',\n 'Run_35',\n 'Run_36',\n 'Run_37',\n 'Run_38',\n 'Run_39',\n 'Run_40',\n 'Run_41',\n 'Run_42',\n 'Run_43',\n 'Run_44',\n 'Run_45',\n 'Run_46',\n 'Run_47',\n 'Run_48',\n 'Run_49',\n 'Run_50',\n 'Run_51',\n 'Run_52',\n 'Run_53',\n 'Run_54',\n 'Run_55',\n 'Run_56',\n 'Run_57',\n 'Run_58',\n 'Run_59',\n 'Run_60',\n 'Run_61',\n 'Run_62',\n 'Run_63',\n 'Run_64',\n 'Run_65',\n 'Run_66',\n 'Run_67',\n 'Run_68',\n 'Run_69',\n 'Run_70',\n 'Run_71',\n 'Run_72',\n 'Run_73',\n 'Run_74',\n 'Run_75',\n 'Run_76',\n 'Run_77',\n 'Run_78',\n 'Run_79',\n 'Run_80',\n 'Run_81',\n 'Run_82',\n 'Run_83',\n 'Run_84',\n 'Run_85',\n 'Run_86',\n 'Run_87',\n 'Run_88',\n 'Run_89',\n 'Run_90',\n 'Run_91',\n 'Run_92',\n 'Run_93',\n 'Run_94',\n 'Run_95',\n 'Run_96',\n 'Run_97',\n 'Run_98',\n 'Run_99',\n 'Run_100',\n 'Run_101',\n 'Run_102',\n 'Run_103',\n 'Run_104',\n 'Run_105',\n 'Run_106',\n 'Run_107',\n 'Run_108',\n 'Run_109',\n 'Run_110',\n 'Run_111',\n 'Run_112',\n 'Run_113',\n 'Run_114',\n 'Run_115',\n 'Run_116',\n 'Run_117',\n 'Run_118',\n 'Run_119',\n 'Run_120',\n 'Run_121',\n 'Run_122',\n 'Run_123',\n 'Run_124',\n 'Run_125',\n 'Run_126',\n 'Run_127',\n 'Run_128',\n 'Run_129',\n 'Run_130',\n 'Run_131',\n 'Run_132',\n 'Run_133',\n 'Run_134',\n 'Run_135',\n 'Run_136',\n 'Run_137',\n 'Run_138',\n 'Run_139',\n 'Run_140',\n 'Run_141',\n 'Run_142',\n 'Run_143',\n 'Run_144',\n 'Run_145',\n 'Run_146',\n 'Run_147',\n 'Run_148',\n 'Run_149',\n 'Run_150',\n 'Run_151',\n 'Run_152',\n 'Run_153',\n 'Run_154',\n 'Run_155',\n 'Run_156',\n 'Run_157',\n 'Run_158',\n 'Run_159',\n 'Run_160',\n 'Run_161',\n 'Run_162',\n 'Run_163',\n 'Run_164',\n 'Run_165',\n 'Run_166',\n 'Run_167',\n 'Run_168',\n 'Run_169',\n 'Run_170',\n 'Run_171',\n 'Run_172',\n 'Run_173',\n 'Run_174',\n 'Run_175',\n 'Run_176',\n 'Run_177',\n 'Run_178',\n 'Run_179',\n 'Run_180',\n 'Run_181',\n 'Run_182',\n 'Run_183',\n 'Run_184',\n 'Run_185',\n 'Run_186',\n 'Run_187',\n 'Run_188',\n 'Run_189',\n 'Run_190',\n 'Run_191',\n 'Run_192',\n 'Run_193',\n 'Run_194',\n 'Run_195',\n 'Run_196',\n 'Run_197',\n 'Run_198',\n 'Run_199',\n 'Run_200',\n 'Run_201',\n 'Run_202',\n 'Run_203',\n 'Run_204',\n 'Run_205',\n 'Run_206',\n 'Run_207',\n 'Run_208',\n 'Run_209',\n 'Run_210',\n 'Run_211',\n 'Run_212',\n 'Run_213',\n 'Run_214',\n 'Run_215',\n 'Run_216',\n 'Run_217',\n 'Run_218',\n 'Run_219',\n 'Run_220',\n 'Run_221',\n 'Run_222',\n 'Run_223',\n 'Run_224',\n 'Run_225',\n 'Run_226',\n 'Run_227',\n 'Run_228',\n 'Run_229',\n 'Run_230',\n 'Run_231',\n 'Run_232',\n 'Run_233',\n 'Run_234',\n 'Run_235',\n 'Run_236',\n 'Run_237',\n 'Run_238',\n 'Run_239',\n 'Run_240',\n 'Run_241',\n 'Run_242',\n 'Run_243',\n 'Run_244',\n 'Run_245',\n 'Run_246',\n 'Run_247',\n 'Run_248',\n 'Run_249',\n 'Run_250',\n 'Run_251',\n 'Run_252',\n 'Run_253',\n 'Run_254',\n 'Run_255',\n 'Run_256']"
     },
     "metadata": {}
    }
   ]
  },
  {
   "metadata": {},
   "cell_type": "markdown",
   "source": "## Execution with QCG-PilotJob "
  },
  {
   "metadata": {},
   "id": "guided-postcard",
   "cell_type": "markdown",
   "source": "Now we can go to the essential code needed for the executions of our model with QCG-PilotJob. At the beginning we define the command for the model execution. Please note we provide the full path to the application and the name of an input file. "
  },
  {
   "metadata": {
    "trusted": true
   },
   "id": "palestinian-elizabeth",
   "cell_type": "code",
   "source": "cmd = f\"{os.getcwd()}/beam input.json\"",
   "execution_count": 8,
   "outputs": []
  },
  {
   "metadata": {},
   "id": "unauthorized-myrtle",
   "cell_type": "markdown",
   "source": "The next step is to create the QCG-PilotJob manager instance. We can make it with a helper method provided by an object of `uq.pools.qcgpj.QCGPJ` class. This method can be executed without any parameters. In such a case QCG-PilotJob establishes number of available resources based on the discovered environment configuration. If QCG-PilotJob is run on a cluster, the resources would be defined based on the environment set by SLURM. In our tutorial however, QCG-PilotJob is executed in a virtual/local environment. In such circumstances the number of resources (cores) are taken directly from `/proc/cpuinfo`. "
  },
  {
   "metadata": {
    "trusted": true
   },
   "id": "military-struggle",
   "cell_type": "code",
   "source": "qcgpj_manager = uq.pools.qcgpj.QCGPJ().create_manager()",
   "execution_count": 9,
   "outputs": []
  },
  {
   "metadata": {},
   "id": "mathematical-grain",
   "cell_type": "markdown",
   "source": "**Note:** the `create_manager()` method accepts a few optional parameters. The `resources` parameter may be particularly useful for local tests of QCG-PilotJob. It allows to define virtual resources and arbitrarly set their number, so QCG-PilotJob can mimic more complex execution scenarios. "
  },
  {
   "metadata": {},
   "id": "powerful-display",
   "cell_type": "markdown",
   "source": "Once `qcgpj_manager` instance is ready, we need to define dedicated `ExecuteQCGPJ` action for execution of models within it. The `task_requirements` parameter for the action's constructor allows to specify how many resources a single task should be executed onto. Here we assume that a task will take a single core only, but it can be changed if more resources (or virtual resources) are available. "
  },
  {
   "metadata": {
    "trusted": true
   },
   "id": "valid-margin",
   "cell_type": "code",
   "source": "qcgpj_action = uq.actions.ExecuteQCGPJ(qcgpj_manager, cmd, task_requirements=uq.pools.qcgpj.TaskRequirements(cores=1))",
   "execution_count": 10,
   "outputs": []
  },
  {
   "metadata": {},
   "id": "federal-principal",
   "cell_type": "markdown",
   "source": "For the actual execution, we employ the `apply_for_each_run_dir()` method available in the campaign object. The method takes `ExecuteQCGPJ` action and QCG-PilotJob manager  as parameters. "
  },
  {
   "metadata": {
    "trusted": true
   },
   "id": "consolidated-annotation",
   "cell_type": "code",
   "source": "campaign.apply_for_each_run_dir(\n    qcgpj_action,\n    qcgpj_manager\n)",
   "execution_count": 11,
   "outputs": []
  },
  {
   "metadata": {},
   "id": "novel-block",
   "cell_type": "markdown",
   "source": "Now we just should finalize the QCG-PilotJob manager with the `finish()` method. "
  },
  {
   "metadata": {
    "trusted": true
   },
   "id": "parallel-appraisal",
   "cell_type": "code",
   "source": "qcgpj_manager.finish()",
   "execution_count": 12,
   "outputs": []
  },
  {
   "metadata": {},
   "id": "perceived-elizabeth",
   "cell_type": "markdown",
   "source": "The execution of this method also concludes the QCG-PilotJob specific part of the code. At this moment we can follow the original example. "
  },
  {
   "metadata": {},
   "cell_type": "markdown",
   "source": "## Analysis"
  },
  {
   "metadata": {},
   "cell_type": "markdown",
   "source": "We invoke `analyse()` method, which, depending on a selected sampling method, generates adequate analysis results. "
  },
  {
   "metadata": {
    "trusted": true
   },
   "id": "logical-consent",
   "cell_type": "code",
   "source": "results = campaign.analyse(qoi_cols=['g1'])",
   "execution_count": 13,
   "outputs": []
  },
  {
   "metadata": {},
   "id": "perceived-sheet",
   "cell_type": "markdown",
   "source": "Finally we can display the results. For example we can plot Sobols in a treemap format:"
  },
  {
   "metadata": {
    "trusted": true
   },
   "id": "focal-poetry",
   "cell_type": "code",
   "source": "results.plot_sobols_treemap('g1', figsize=(10, 10))\nplt.axis('off');",
   "execution_count": 14,
   "outputs": [
    {
     "output_type": "display_data",
     "data": {
      "text/plain": "<Figure size 720x720 with 1 Axes>",
      "image/png": "[encoded data removed]"
     },
     "metadata": {
      "needs_background": "light"
     }
    }
   ]
  },
  {
   "metadata": {},
   "id": "talented-promise",
   "cell_type": "markdown",
   "source": "Alternatively you can get the Sobol index values using the method call below."
  },
  {
   "metadata": {
    "trusted": true
   },
   "id": "explicit-catering",
   "cell_type": "code",
   "source": "results.sobols_first()",
   "execution_count": 15,
   "outputs": [
    {
     "output_type": "execute_result",
     "execution_count": 15,
     "data": {
      "text/plain": "{'g1': {'F': array([0.13443022]),\n  'L': array([0.01209975]),\n  'a': array([0.69605713]),\n  'D': array([0.14127148])}}"
     },
     "metadata": {}
    }
   ]
  },
  {
   "metadata": {},
   "cell_type": "markdown",
   "source": "## Further steps"
  },
  {
   "metadata": {},
   "cell_type": "markdown",
   "source": "In this tutorial we have presented a basic way how QCG-PilotJob can be used for HPC execution of evaluations of models in EasyVVUQ. If this embedded mechanism is not sufficient, VECMAtk provides also more advanced library, called [EQI](https://github.com/vecma-project/easyvvuq-qcgpj). EQI concentrates on most optimal QCG-PilotJob usage schemes and although it is less flexible, it can provide better performance for computationally demanding scenarios. "
  }
 ],
 "metadata": {
  "kernelspec": {
   "name": "python3",
   "display_name": "Python 3",
   "language": "python"
  },
  "language_info": {
   "name": "python",
   "version": "3.7.10",
   "mimetype": "text/x-python",
   "codemirror_mode": {
    "name": "ipython",
    "version": 3
   },
   "pygments_lexer": "ipython3",
   "nbconvert_exporter": "python",
   "file_extension": ".py"
  }
 },
 "nbformat": 4,
 "nbformat_minor": 5
}